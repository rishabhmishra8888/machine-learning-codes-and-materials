{
 "cells": [
  {
   "cell_type": "markdown",
   "id": "d13e5bec",
   "metadata": {},
   "source": [
    "## Numpy introduction\n"
   ]
  },
  {
   "cell_type": "markdown",
   "id": "604b0f91",
   "metadata": {},
   "source": [
    "NumPy is a Python library used for working with arrays.\n",
    "\n",
    "It also has functions for working in domain of linear algebra, fourier transform, and matrices.\n",
    "\n",
    "NumPy was created in 2005 by Travis Oliphant. It is an open source project and you can use it freely.\n",
    "\n",
    "NumPy stands for Numerical Python."
   ]
  },
  {
   "cell_type": "markdown",
   "id": "bdd4f325",
   "metadata": {},
   "source": [
    "### Why Use NumPy?\n",
    "In Python we have lists that serve the purpose of arrays, but they are slow to process. NumPy aims to provide an array object that is up to 50x faster than traditional Python lists.The array object in NumPy is called ndarray, it provides a lot of supporting functions that make working with ndarray very easy.Arrays are very frequently used in data science, where speed and resources are very important."
   ]
  },
  {
   "cell_type": "code",
   "execution_count": null,
   "id": "8936e981",
   "metadata": {},
   "outputs": [],
   "source": [
    "import numpy as np"
   ]
  },
  {
   "cell_type": "code",
   "execution_count": 4,
   "id": "f79ebb0d",
   "metadata": {},
   "outputs": [
    {
     "name": "stdout",
     "output_type": "stream",
     "text": [
      "[2 6 4 3 1 3 5 5]\n"
     ]
    }
   ],
   "source": [
    "a=np.array([2,6,4,3,1,3,5,5])\n",
    "print(a)"
   ]
  },
  {
   "cell_type": "code",
   "execution_count": 5,
   "id": "67b70ed6",
   "metadata": {},
   "outputs": [
    {
     "data": {
      "text/plain": [
       "1"
      ]
     },
     "execution_count": 5,
     "metadata": {},
     "output_type": "execute_result"
    }
   ],
   "source": [
    "#finding dimension of a\n",
    "a.ndim"
   ]
  },
  {
   "cell_type": "code",
   "execution_count": 8,
   "id": "166007c0",
   "metadata": {},
   "outputs": [
    {
     "data": {
      "text/plain": [
       "(8,)"
      ]
     },
     "execution_count": 8,
     "metadata": {},
     "output_type": "execute_result"
    }
   ],
   "source": [
    "a.shape\n",
    "#a is having 8 columns and 1 row \n",
    "#a is one dimensional array"
   ]
  },
  {
   "cell_type": "code",
   "execution_count": 9,
   "id": "e73c5e98",
   "metadata": {},
   "outputs": [
    {
     "data": {
      "text/plain": [
       "numpy.ndarray"
      ]
     },
     "execution_count": 9,
     "metadata": {},
     "output_type": "execute_result"
    }
   ],
   "source": [
    "type(a)"
   ]
  },
  {
   "cell_type": "code",
   "execution_count": 13,
   "id": "a915b98a",
   "metadata": {},
   "outputs": [],
   "source": [
    "arr=a.reshape(4,2)"
   ]
  },
  {
   "cell_type": "code",
   "execution_count": 14,
   "id": "f3174017",
   "metadata": {},
   "outputs": [
    {
     "data": {
      "text/plain": [
       "(8,)"
      ]
     },
     "execution_count": 14,
     "metadata": {},
     "output_type": "execute_result"
    }
   ],
   "source": [
    "a.shape"
   ]
  },
  {
   "cell_type": "code",
   "execution_count": 15,
   "id": "b6f2f195",
   "metadata": {},
   "outputs": [
    {
     "data": {
      "text/plain": [
       "(4, 2)"
      ]
     },
     "execution_count": 15,
     "metadata": {},
     "output_type": "execute_result"
    }
   ],
   "source": [
    "arr.shape"
   ]
  },
  {
   "cell_type": "code",
   "execution_count": 16,
   "id": "7febe3bd",
   "metadata": {},
   "outputs": [
    {
     "data": {
      "text/plain": [
       "array([[2, 6],\n",
       "       [4, 3],\n",
       "       [1, 3],\n",
       "       [5, 5]])"
      ]
     },
     "execution_count": 16,
     "metadata": {},
     "output_type": "execute_result"
    }
   ],
   "source": [
    "arr"
   ]
  },
  {
   "cell_type": "code",
   "execution_count": 20,
   "id": "26d20863",
   "metadata": {},
   "outputs": [
    {
     "name": "stdout",
     "output_type": "stream",
     "text": [
      "[[1 2 3]\n",
      " [2 3 4]\n",
      " [3 4 5]\n",
      " [4 5 6]]\n"
     ]
    }
   ],
   "source": [
    "lis_1=[1,2,3]\n",
    "lis_2=[2,3,4]\n",
    "lis_3=[3,4,5]\n",
    "lis_4=[4,5,6]\n",
    "b=np.array([lis_1,lis_2,lis_3,lis_4])\n",
    "\n",
    "print(b)"
   ]
  },
  {
   "cell_type": "code",
   "execution_count": 21,
   "id": "807a13ac",
   "metadata": {},
   "outputs": [],
   "source": [
    "new=b.reshape(3,4)"
   ]
  },
  {
   "cell_type": "code",
   "execution_count": 22,
   "id": "724f2d5b",
   "metadata": {},
   "outputs": [
    {
     "name": "stdout",
     "output_type": "stream",
     "text": [
      "[[1 2 3 2]\n",
      " [3 4 3 4]\n",
      " [5 4 5 6]]\n"
     ]
    }
   ],
   "source": [
    "print(new)"
   ]
  },
  {
   "cell_type": "code",
   "execution_count": 23,
   "id": "1450a0ce",
   "metadata": {},
   "outputs": [
    {
     "data": {
      "text/plain": [
       "(3, 4)"
      ]
     },
     "execution_count": 23,
     "metadata": {},
     "output_type": "execute_result"
    }
   ],
   "source": [
    "new.shape"
   ]
  },
  {
   "cell_type": "code",
   "execution_count": 24,
   "id": "56ddc10e",
   "metadata": {},
   "outputs": [
    {
     "data": {
      "text/plain": [
       "(4, 3)"
      ]
     },
     "execution_count": 24,
     "metadata": {},
     "output_type": "execute_result"
    }
   ],
   "source": [
    "b.shape"
   ]
  },
  {
   "cell_type": "code",
   "execution_count": 28,
   "id": "f9efa78e",
   "metadata": {},
   "outputs": [
    {
     "data": {
      "text/plain": [
       "array([[1, 2],\n",
       "       [2, 3]])"
      ]
     },
     "execution_count": 28,
     "metadata": {},
     "output_type": "execute_result"
    }
   ],
   "source": [
    "b[0:2,0:2]"
   ]
  },
  {
   "cell_type": "code",
   "execution_count": 30,
   "id": "dca0a410",
   "metadata": {},
   "outputs": [
    {
     "name": "stdout",
     "output_type": "stream",
     "text": [
      "[ 0  1  2  3  4  5  6  7  8  9 10 11 12 13 14]\n"
     ]
    }
   ],
   "source": [
    "#arange\n",
    "array=np.arange(0,15)\n",
    "print(array)"
   ]
  },
  {
   "cell_type": "code",
   "execution_count": 31,
   "id": "1915b4a7",
   "metadata": {},
   "outputs": [
    {
     "data": {
      "text/plain": [
       "array([[ 0,  1,  2,  3,  4],\n",
       "       [ 5,  6,  7,  8,  9],\n",
       "       [10, 11, 12, 13, 14]])"
      ]
     },
     "execution_count": 31,
     "metadata": {},
     "output_type": "execute_result"
    }
   ],
   "source": [
    "array.reshape(3,5)"
   ]
  },
  {
   "cell_type": "code",
   "execution_count": 34,
   "id": "6db84bf5",
   "metadata": {},
   "outputs": [
    {
     "data": {
      "text/plain": [
       "array([10, 15, 20, 25, 30, 35])"
      ]
     },
     "execution_count": 34,
     "metadata": {},
     "output_type": "execute_result"
    }
   ],
   "source": [
    "new_array=np.arange(10,36,step=5)\n",
    "new_array"
   ]
  },
  {
   "cell_type": "code",
   "execution_count": 35,
   "id": "9ec25601",
   "metadata": {},
   "outputs": [
    {
     "data": {
      "text/plain": [
       "array([ 1.        ,  1.16981132,  1.33962264,  1.50943396,  1.67924528,\n",
       "        1.8490566 ,  2.01886792,  2.18867925,  2.35849057,  2.52830189,\n",
       "        2.69811321,  2.86792453,  3.03773585,  3.20754717,  3.37735849,\n",
       "        3.54716981,  3.71698113,  3.88679245,  4.05660377,  4.22641509,\n",
       "        4.39622642,  4.56603774,  4.73584906,  4.90566038,  5.0754717 ,\n",
       "        5.24528302,  5.41509434,  5.58490566,  5.75471698,  5.9245283 ,\n",
       "        6.09433962,  6.26415094,  6.43396226,  6.60377358,  6.77358491,\n",
       "        6.94339623,  7.11320755,  7.28301887,  7.45283019,  7.62264151,\n",
       "        7.79245283,  7.96226415,  8.13207547,  8.30188679,  8.47169811,\n",
       "        8.64150943,  8.81132075,  8.98113208,  9.1509434 ,  9.32075472,\n",
       "        9.49056604,  9.66037736,  9.83018868, 10.        ])"
      ]
     },
     "execution_count": 35,
     "metadata": {},
     "output_type": "execute_result"
    }
   ],
   "source": [
    "np.linspace(1,10,54)\n",
    "#gives 54 equally spaced numbers between 1 to 10"
   ]
  },
  {
   "cell_type": "code",
   "execution_count": 37,
   "id": "291de091",
   "metadata": {},
   "outputs": [
    {
     "data": {
      "text/plain": [
       "array([  0,   1, 100, 100, 100, 100, 100,   7,   8,   9,  10,  11,  12,\n",
       "        13,  14])"
      ]
     },
     "execution_count": 37,
     "metadata": {},
     "output_type": "execute_result"
    }
   ],
   "source": [
    "#copying\n",
    "array[2:7]=100\n",
    "array"
   ]
  },
  {
   "cell_type": "code",
   "execution_count": 39,
   "id": "40363034",
   "metadata": {},
   "outputs": [
    {
     "data": {
      "text/plain": [
       "array([  0,   1, 100, 900, 900, 900, 900, 900, 900, 900, 900, 900, 900,\n",
       "       900, 900])"
      ]
     },
     "execution_count": 39,
     "metadata": {},
     "output_type": "execute_result"
    }
   ],
   "source": [
    "array1=array.copy()\n",
    "array1[3:]=900\n",
    "array1"
   ]
  },
  {
   "cell_type": "code",
   "execution_count": 40,
   "id": "ed1682c0",
   "metadata": {},
   "outputs": [],
   "source": [
    "array2=array\n",
    "array2[3:]=2"
   ]
  },
  {
   "cell_type": "code",
   "execution_count": 41,
   "id": "a3718c5b",
   "metadata": {},
   "outputs": [
    {
     "data": {
      "text/plain": [
       "array([  0,   1, 100,   2,   2,   2,   2,   2,   2,   2,   2,   2,   2,\n",
       "         2,   2])"
      ]
     },
     "execution_count": 41,
     "metadata": {},
     "output_type": "execute_result"
    }
   ],
   "source": [
    "array2"
   ]
  },
  {
   "cell_type": "code",
   "execution_count": 42,
   "id": "0cb14c08",
   "metadata": {},
   "outputs": [
    {
     "data": {
      "text/plain": [
       "array([  0,   1, 100,   2,   2,   2,   2,   2,   2,   2,   2,   2,   2,\n",
       "         2,   2])"
      ]
     },
     "execution_count": 42,
     "metadata": {},
     "output_type": "execute_result"
    }
   ],
   "source": [
    "array"
   ]
  },
  {
   "cell_type": "code",
   "execution_count": 43,
   "id": "eea497b9",
   "metadata": {},
   "outputs": [
    {
     "data": {
      "text/plain": [
       "array([False, False,  True, False, False, False, False, False, False,\n",
       "       False, False, False, False, False, False])"
      ]
     },
     "execution_count": 43,
     "metadata": {},
     "output_type": "execute_result"
    }
   ],
   "source": [
    "val=11\n",
    "array>3\n",
    "#checks the value of elements and returns whether the element is greater than 3 or not"
   ]
  },
  {
   "cell_type": "code",
   "execution_count": 44,
   "id": "5662ab88",
   "metadata": {},
   "outputs": [
    {
     "data": {
      "text/plain": [
       "array([100])"
      ]
     },
     "execution_count": 44,
     "metadata": {},
     "output_type": "execute_result"
    }
   ],
   "source": [
    "array[array>3]\n",
    "#gives the the element which is greater than 3"
   ]
  },
  {
   "cell_type": "code",
   "execution_count": 47,
   "id": "0913e375",
   "metadata": {},
   "outputs": [
    {
     "data": {
      "text/plain": [
       "array([[1., 1., 1., 1.],\n",
       "       [1., 1., 1., 1.],\n",
       "       [1., 1., 1., 1.],\n",
       "       [1., 1., 1., 1.]])"
      ]
     },
     "execution_count": 47,
     "metadata": {},
     "output_type": "execute_result"
    }
   ],
   "source": [
    "ones_array=np.ones((4,4),dtype=float)\n",
    "#Return a new array of given shape and type, filled with ones.\n",
    "\n",
    "ones_array"
   ]
  },
  {
   "cell_type": "code",
   "execution_count": 48,
   "id": "3110818b",
   "metadata": {},
   "outputs": [
    {
     "data": {
      "text/plain": [
       "array([[0.92363575, 0.9218476 , 0.51731619, 0.61068383],\n",
       "       [0.42963343, 0.15028346, 0.40613766, 0.74245653],\n",
       "       [0.0596736 , 0.53109331, 0.03273821, 0.13812845],\n",
       "       [0.50845609, 0.50227252, 0.21320107, 0.70572852]])"
      ]
     },
     "execution_count": 48,
     "metadata": {},
     "output_type": "execute_result"
    }
   ],
   "source": [
    "##random distribution\n",
    "np.random.rand(4,4)"
   ]
  },
  {
   "cell_type": "code",
   "execution_count": 53,
   "id": "67cd9816",
   "metadata": {},
   "outputs": [],
   "source": [
    "arr_ex=np.random.randn(4,4)"
   ]
  },
  {
   "cell_type": "code",
   "execution_count": 54,
   "id": "18bb84fa",
   "metadata": {},
   "outputs": [
    {
     "name": "stderr",
     "output_type": "stream",
     "text": [
      "C:\\Users\\mishr\\anaconda3\\lib\\site-packages\\seaborn\\distributions.py:2619: FutureWarning: `distplot` is a deprecated function and will be removed in a future version. Please adapt your code to use either `displot` (a figure-level function with similar flexibility) or `histplot` (an axes-level function for histograms).\n",
      "  warnings.warn(msg, FutureWarning)\n"
     ]
    },
    {
     "data": {
      "text/plain": [
       "<AxesSubplot:ylabel='Density'>"
      ]
     },
     "execution_count": 54,
     "metadata": {},
     "output_type": "execute_result"
    },
    {
     "data": {
      "image/png": "[encoded data removed]",
      "text/plain": [
       "<Figure size 432x288 with 1 Axes>"
      ]
     },
     "metadata": {
      "needs_background": "light"
     },
     "output_type": "display_data"
    }
   ],
   "source": [
    "import seaborn as sns\n",
    "import pandas as pd\n",
    "sns.distplot(pd.DataFrame(arr_ex.reshape(16,1)))"
   ]
  },
  {
   "cell_type": "code",
   "execution_count": 61,
   "id": "f91995d5",
   "metadata": {},
   "outputs": [
    {
     "name": "stderr",
     "output_type": "stream",
     "text": [
      "C:\\Users\\mishr\\anaconda3\\lib\\site-packages\\seaborn\\distributions.py:2619: FutureWarning: `distplot` is a deprecated function and will be removed in a future version. Please adapt your code to use either `displot` (a figure-level function with similar flexibility) or `histplot` (an axes-level function for histograms).\n",
      "  warnings.warn(msg, FutureWarning)\n"
     ]
    },
    {
     "data": {
      "text/plain": [
       "<AxesSubplot:ylabel='Density'>"
      ]
     },
     "execution_count": 61,
     "metadata": {},
     "output_type": "execute_result"
    },
    {
     "data": {
      "image/png": "[encoded data removed]",
      "text/plain": [
       "<Figure size 432x288 with 1 Axes>"
      ]
     },
     "metadata": {
      "needs_background": "light"
     },
     "output_type": "display_data"
    }
   ],
   "source": [
    "random_int=np.random.randint(50,100,18).reshape(6,3)\n",
    "sns.distplot(pd.DataFrame(random_int.reshape(18,1)))"
   ]
  },
  {
   "cell_type": "code",
   "execution_count": 63,
   "id": "3ad26266",
   "metadata": {},
   "outputs": [
    {
     "data": {
      "text/plain": [
       "<AxesSubplot:ylabel='Count'>"
      ]
     },
     "execution_count": 63,
     "metadata": {},
     "output_type": "execute_result"
    },
    {
     "data": {
      "image/png": "[encoded data removed]",
      "text/plain": [
       "<Figure size 432x288 with 1 Axes>"
      ]
     },
     "metadata": {
      "needs_background": "light"
     },
     "output_type": "display_data"
    }
   ],
   "source": [
    "sns.histplot(pd.DataFrame(random_int.reshape(18,1)))"
   ]
  },
  {
   "cell_type": "code",
   "execution_count": null,
   "id": "7905d112",
   "metadata": {},
   "outputs": [],
   "source": []
  }
 ],
 "metadata": {
  "kernelspec": {
   "display_name": "Python 3 (ipykernel)",
   "language": "python",
   "name": "python3"
  },
  "language_info": {
   "codemirror_mode": {
    "name": "ipython",
    "version": 3
   },
   "file_extension": ".py",
   "mimetype": "text/x-python",
   "name": "python",
   "nbconvert_exporter": "python",
   "pygments_lexer": "ipython3",
   "version": "3.9.12"
  }
 },
 "nbformat": 4,
 "nbformat_minor": 5
}
