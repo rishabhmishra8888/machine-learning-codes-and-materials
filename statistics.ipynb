{
  "nbformat": 4,
  "nbformat_minor": 0,
  "metadata": {
    "colab": {
      "provenance": []
    },
    "kernelspec": {
      "name": "python3",
      "display_name": "Python 3"
    },
    "language_info": {
      "name": "python"
    }
  },
  "cells": [
    {
      "cell_type": "code",
      "execution_count": 2,
      "metadata": {
        "id": "eB-ys3luEFQj"
      },
      "outputs": [],
      "source": [
        "import numpy as np\n",
        "import statistics\n",
        "import seaborn as sns\n",
        "import matplotlib.pyplot as ply\n",
        "%matplotlib inline\n",
        "import pandas as pd"
      ]
    },
    {
      "cell_type": "code",
      "source": [
        "### outliers\n",
        "dataset=[-19,11,21,32,21,34,25,26,12,17,18,19,19,1,35,32,14,98,32,27,26,27,24,16,12,16,15,14,31,98]"
      ],
      "metadata": {
        "id": "hjjdPkRBEY46"
      },
      "execution_count": 15,
      "outputs": []
    },
    {
      "cell_type": "code",
      "source": [
        "np.mean(dataset)"
      ],
      "metadata": {
        "colab": {
          "base_uri": "https://localhost:8080/"
        },
        "id": "0DqbUMxUFDTH",
        "outputId": "f76f2a63-597f-46cc-c98d-9fcee5250d99"
      },
      "execution_count": 16,
      "outputs": [
        {
          "output_type": "execute_result",
          "data": {
            "text/plain": [
              "25.133333333333333"
            ]
          },
          "metadata": {},
          "execution_count": 16
        }
      ]
    },
    {
      "cell_type": "code",
      "source": [
        "\n",
        "outliers=[]\n",
        "\n",
        "def detect_outliers(data):\n",
        "    threshold=3\n",
        "    mean=np.mean(data)\n",
        "    std=np.std(data)\n",
        "\n",
        "    for i in dataset:\n",
        "      z_score=(i-mean)/std\n",
        "      if np.abs(z_score)>threshold:\n",
        "        outliers.append(i)\n",
        "      \n",
        "    return outliers"
      ],
      "metadata": {
        "id": "JemlrFKXFHlp"
      },
      "execution_count": 17,
      "outputs": []
    },
    {
      "cell_type": "code",
      "source": [
        "ply.boxplot(dataset)"
      ],
      "metadata": {
        "colab": {
          "base_uri": "https://localhost:8080/",
          "height": 569
        },
        "id": "cBlpVoYFGRRK",
        "outputId": "91dc370d-cf56-48ee-a638-42c1dae8026b"
      },
      "execution_count": 18,
      "outputs": [
        {
          "output_type": "execute_result",
          "data": {
            "text/plain": [
              "{'whiskers': [<matplotlib.lines.Line2D at 0x7fd2d5c08a90>,\n",
              "  <matplotlib.lines.Line2D at 0x7fd2d5c08d30>],\n",
              " 'caps': [<matplotlib.lines.Line2D at 0x7fd2d5c08f40>,\n",
              "  <matplotlib.lines.Line2D at 0x7fd2d5c091e0>],\n",
              " 'boxes': [<matplotlib.lines.Line2D at 0x7fd2d5c087f0>],\n",
              " 'medians': [<matplotlib.lines.Line2D at 0x7fd2d5c09480>],\n",
              " 'fliers': [<matplotlib.lines.Line2D at 0x7fd2d5c09720>],\n",
              " 'means': []}"
            ]
          },
          "metadata": {},
          "execution_count": 18
        },
        {
          "output_type": "display_data",
          "data": {
            "text/plain": [
              "<Figure size 640x480 with 1 Axes>"
            ],
            "image/png": "[encoded data removed]"
          },
          "metadata": {}
        }
      ]
    },
    {
      "cell_type": "code",
      "source": [
        "detect_outliers(dataset)"
      ],
      "metadata": {
        "colab": {
          "base_uri": "https://localhost:8080/"
        },
        "id": "Om6BFCJOGbJY",
        "outputId": "54fbab2e-2c62-4a42-ba0c-aab1cbdc930a"
      },
      "execution_count": 19,
      "outputs": [
        {
          "output_type": "execute_result",
          "data": {
            "text/plain": [
              "[98, 98]"
            ]
          },
          "metadata": {},
          "execution_count": 19
        }
      ]
    },
    {
      "cell_type": "code",
      "source": [
        "##IQR\n",
        "##sort the data\n",
        "## find q1 and q3\n",
        "##iqr=(q3-q1)\n",
        "##find lower fence= q1-1.5(iqr)\n",
        "##find upper fence=q3+1.5(iqr)\n",
        "\n",
        "dataset=sorted(dataset)\n",
        "dataset"
      ],
      "metadata": {
        "colab": {
          "base_uri": "https://localhost:8080/"
        },
        "id": "nA1bOYmGGkwu",
        "outputId": "0e6442f0-5bfb-49c9-bbe3-4e8107280569"
      },
      "execution_count": 20,
      "outputs": [
        {
          "output_type": "execute_result",
          "data": {
            "text/plain": [
              "[-19,\n",
              " 1,\n",
              " 11,\n",
              " 12,\n",
              " 12,\n",
              " 14,\n",
              " 14,\n",
              " 15,\n",
              " 16,\n",
              " 16,\n",
              " 17,\n",
              " 18,\n",
              " 19,\n",
              " 19,\n",
              " 21,\n",
              " 21,\n",
              " 24,\n",
              " 25,\n",
              " 26,\n",
              " 26,\n",
              " 27,\n",
              " 27,\n",
              " 31,\n",
              " 32,\n",
              " 32,\n",
              " 32,\n",
              " 34,\n",
              " 35,\n",
              " 98,\n",
              " 98]"
            ]
          },
          "metadata": {},
          "execution_count": 20
        }
      ]
    },
    {
      "cell_type": "code",
      "source": [
        "q1,q3=np.percentile(dataset,[25,75])"
      ],
      "metadata": {
        "id": "abapFt1pHiU3"
      },
      "execution_count": 21,
      "outputs": []
    },
    {
      "cell_type": "code",
      "source": [
        "##finding lower and upper fence\n",
        "iqr=q3-q1\n",
        "lower_fence=q1-1.5*(iqr)\n",
        "upper_fence=q3+1.5*(iqr)"
      ],
      "metadata": {
        "id": "-RFWCGbEHtwz"
      },
      "execution_count": 25,
      "outputs": []
    },
    {
      "cell_type": "code",
      "source": [
        "print(iqr,lower_fence,upper_fence)"
      ],
      "metadata": {
        "colab": {
          "base_uri": "https://localhost:8080/"
        },
        "id": "jRGV8ouPH0G_",
        "outputId": "28ca6d3f-a9cd-4f88-b270-280137e31d5f"
      },
      "execution_count": 26,
      "outputs": [
        {
          "output_type": "stream",
          "name": "stdout",
          "text": [
            "14.75 -6.875 52.125\n"
          ]
        }
      ]
    },
    {
      "cell_type": "code",
      "source": [
        "sns.boxplot(dataset,orient='vertical')"
      ],
      "metadata": {
        "colab": {
          "base_uri": "https://localhost:8080/",
          "height": 447
        },
        "id": "K0jpf4dMH1qv",
        "outputId": "dde14bd8-d7a8-499e-d84a-42de78893fa6"
      },
      "execution_count": 27,
      "outputs": [
        {
          "output_type": "execute_result",
          "data": {
            "text/plain": [
              "<Axes: >"
            ]
          },
          "metadata": {},
          "execution_count": 27
        },
        {
          "output_type": "display_data",
          "data": {
            "text/plain": [
              "<Figure size 640x480 with 1 Axes>"
            ],
            "image/png": "[encoded data removed]"
          },
          "metadata": {}
        }
      ]
    },
    {
      "cell_type": "code",
      "source": [
        "def remove_values(dataset):\n",
        "    updated_dataset = [i for i in dataset if not (-6.875 < i < 52.125)]\n",
        "    return updated_dataset\n"
      ],
      "metadata": {
        "id": "OFjUb9vgIlcL"
      },
      "execution_count": 31,
      "outputs": []
    },
    {
      "cell_type": "code",
      "source": [
        "updated_dataset=remove_values(dataset)\n",
        "updated_dataset\n"
      ],
      "metadata": {
        "colab": {
          "base_uri": "https://localhost:8080/"
        },
        "id": "rrqifsy8JKiq",
        "outputId": "0892350b-6d9c-4a8e-d731-cecfee726c62"
      },
      "execution_count": 33,
      "outputs": [
        {
          "output_type": "execute_result",
          "data": {
            "text/plain": [
              "[-19, 98, 98]"
            ]
          },
          "metadata": {},
          "execution_count": 33
        }
      ]
    },
    {
      "cell_type": "code",
      "source": [],
      "metadata": {
        "id": "P5v1JAN5JprK"
      },
      "execution_count": null,
      "outputs": []
    }
  ]
}